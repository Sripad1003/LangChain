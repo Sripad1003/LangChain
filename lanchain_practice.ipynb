{
 "cells": [
  {
   "cell_type": "markdown",
   "id": "2c26845d",
   "metadata": {},
   "source": [
    "# Langchain crash course"
   ]
  },
  {
   "cell_type": "markdown",
   "id": "9ed0dc6a",
   "metadata": {},
   "source": [
    "##  LLMs"
   ]
  },
  {
   "cell_type": "code",
   "execution_count": null,
   "id": "fa352d5f",
   "metadata": {
    "scrolled": true
   },
   "outputs": [],
   "source": [
    "from langchain_groq import ChatGroq\n",
    "from secret_key import groq_api_key\n",
    "\n",
    "import os\n",
    "os.environ[\"GROQ_API_KEY\"] = groq_api_key \n",
    "\n",
    "# Use Groq’s LLaMA-3 model\n",
    "llm = ChatGroq(model=\"llama-3.3-70b-versatile\", temperature=0.2)"
   ]
  },
  {
   "cell_type": "code",
   "execution_count": 4,
   "id": "b56e8581",
   "metadata": {},
   "outputs": [
    {
     "data": {
      "text/plain": [
       "AIMessage(content='Here are some fancy name suggestions for your Indian restaurant:\\n\\n1. **Tandoori Nights**: This name evokes the warm, aromatic flavors of traditional Indian cuisine, with a hint of exoticism.\\n2. **Mumbai Mansion**: This name combines the vibrant energy of India\\'s largest city with a sense of luxury and sophistication.\\n3. **Spice Route Bazaar**: This name captures the essence of India\\'s rich spice trade history and suggests a lively, bustling atmosphere.\\n4. **Taj Mahal Palace**: This name references the iconic Indian landmark and implies a regal, high-end dining experience.\\n5. **Karma Kitchen**: This name adds a touch of spirituality and wellness to your restaurant, suggesting a nourishing and uplifting dining experience.\\n6. **Bombay Bites**: This name incorporates a playful, modern twist on traditional Indian cuisine, with a nod to the city\\'s vibrant street food scene.\\n7. **Dhaba Royale**: \"Dhaba\" is a colloquial term for a traditional Indian roadside eatery, while \"Royale\" adds a touch of luxury and elegance.\\n8. **Saffron & Spice**: This name highlights two of India\\'s most prized ingredients, suggesting a rich and aromatic culinary experience.\\n9. **Jaipur Jewel**: This name references the stunning architecture and rich cultural heritage of India\\'s \"Pink City,\" implying a treasure trove of flavors and experiences.\\n10. **Garam Masala Grill**: This name incorporates a key Indian spice blend and suggests a modern, upscale take on traditional Indian cuisine.\\n\\nChoose the one that resonates with your vision and atmosphere, and don\\'t forget to check for availability of the desired domain name and social media handles!', additional_kwargs={}, response_metadata={'token_usage': {'completion_tokens': 346, 'prompt_tokens': 54, 'total_tokens': 400, 'completion_time': 0.91142187, 'prompt_time': 0.01233224, 'queue_time': 0.04410454, 'total_time': 0.92375411}, 'model_name': 'llama-3.3-70b-versatile', 'system_fingerprint': 'fp_2ddfbb0da0', 'service_tier': 'on_demand', 'finish_reason': 'stop', 'logprobs': None}, id='run--9f23ced6-4f7b-4692-8ce3-b6bd8642202c-0', usage_metadata={'input_tokens': 54, 'output_tokens': 346, 'total_tokens': 400})"
      ]
     },
     "execution_count": 4,
     "metadata": {},
     "output_type": "execute_result"
    }
   ],
   "source": [
    "llm.invoke(\"I want to open a restaurant for Indian food. Suggest a fency name for this.\")"
   ]
  },
  {
   "cell_type": "markdown",
   "id": "0782a2dd",
   "metadata": {},
   "source": [
    "## Prompt Templates"
   ]
  },
  {
   "cell_type": "code",
   "execution_count": 5,
   "id": "7a306b9d",
   "metadata": {
    "scrolled": true
   },
   "outputs": [
    {
     "name": "stdout",
     "output_type": "stream",
     "text": [
      "I want to open a restaurant for Italian food. Suggest a fency name for this.\n"
     ]
    }
   ],
   "source": [
    "from langchain.prompts import PromptTemplate\n",
    "\n",
    "prompt_template_name = PromptTemplate(\n",
    "    input_variables =['cuisine'],\n",
    "    template = \"I want to open a restaurant for {cuisine} food. Suggest a fency name for this.\"\n",
    ")\n",
    "p = prompt_template_name.format(cuisine=\"Italian\")\n",
    "print(p)\n",
    "\n",
    "# print(llm.predict(p))"
   ]
  },
  {
   "cell_type": "markdown",
   "id": "af406b92",
   "metadata": {},
   "source": [
    "## Chains"
   ]
  },
  {
   "cell_type": "code",
   "execution_count": 7,
   "id": "ba65c213",
   "metadata": {
    "scrolled": true
   },
   "outputs": [
    {
     "data": {
      "text/plain": [
       "'Here are some fancy name suggestions for your Mexican restaurant:\\n\\n1. **Fiesta Royale**: This name evokes the idea of a grand celebration, which is perfect for a restaurant that serves delicious Mexican cuisine.\\n2. **El Jardín de las Flores**: This name, which translates to \"The Garden of Flowers,\" suggests a beautiful and vibrant atmosphere, which is perfect for a Mexican restaurant.\\n3. **Casa de Sol**: This name, which means \"House of the Sun,\" conveys a sense of warmth and hospitality, which is ideal for a restaurant.\\n4. **La Hacienda**: This name, which means \"The Estate,\" suggests a sense of luxury and sophistication, which can help attract a upscale clientele.\\n5. **Tres Amigos**: This name, which means \"Three Friends,\" is a playful and inviting name that suggests a friendly and welcoming atmosphere.\\n6. **El Patio**: This name, which means \"The Patio,\" suggests a casual and outdoor-inspired atmosphere, which is perfect for a Mexican restaurant.\\n7. **Viva Mexico**: This name is a celebration of Mexican culture and cuisine, and is sure to attract customers who are looking for an authentic Mexican experience.\\n8. **Casa Azul**: This name, which means \"Blue House,\" is a nod to the famous Mexican artist Frida Kahlo\\'s home, and suggests a sense of creativity and culture.\\n9. **La Cantina**: This name, which means \"The Tavern,\" suggests a fun and lively atmosphere, which is perfect for a restaurant that serves Mexican cuisine.\\n10. **Sol y Sabor**: This name, which means \"Sun and Flavor,\" is a clever play on words that suggests a restaurant that serves delicious and authentic Mexican cuisine.\\n\\nI hope one of these suggestions inspires you to find the perfect name for your Mexican restaurant!'"
      ]
     },
     "execution_count": 7,
     "metadata": {},
     "output_type": "execute_result"
    }
   ],
   "source": [
    "from langchain.chains import LLMChain\n",
    "\n",
    "chain = LLMChain(llm=llm, prompt=prompt_template_name)\n",
    "chain.run(\"Mexican\")"
   ]
  },
  {
   "cell_type": "code",
   "execution_count": 9,
   "id": "e5ccee75",
   "metadata": {
    "scrolled": true
   },
   "outputs": [
    {
     "data": {
      "text/plain": [
       "'Here are some fancy name suggestions for your Mexican restaurant:\\n\\n1. **Fiesta Royale**: This name evokes the vibrant spirit of Mexican culture and suggests a high-end dining experience.\\n2. **El Jardín de las Flores**: This name, which translates to \"The Garden of Flowers,\" creates a picturesque and elegant atmosphere, perfect for a fancy Mexican restaurant.\\n3. **Casa de Sol**: This name, meaning \"House of Sun,\" conveys warmth and sophistication, making it an attractive choice for a upscale Mexican eatery.\\n4. **La Hacienda Grande**: This name, which means \"The Large Estate,\" implies a grand and luxurious dining experience, fitting for a fancy Mexican restaurant.\\n5. **Toro y Sol**: This name, which combines the Spanish words for \"bull\" and \"sun,\" suggests a bold and elegant atmosphere, perfect for a high-end Mexican restaurant.\\n6. **Mexiko Moderno**: This name highlights the modern twist on traditional Mexican cuisine, making it an appealing choice for a fancy restaurant.\\n7. **El Patio de las Estrellas**: This name, which translates to \"The Patio of the Stars,\" creates a romantic and sophisticated ambiance, perfect for a fancy Mexican restaurant.\\n8. **Casa Azul**: This name, meaning \"Blue House,\" is simple yet elegant, and the blue color is often associated with luxury and sophistication.\\n\\nChoose the one that resonates with your vision and style, and don\\'t forget to check if the name is available as a web domain and social media handle to ensure a strong online presence. ¡Buena suerte! (Good luck!)'"
      ]
     },
     "execution_count": 9,
     "metadata": {},
     "output_type": "execute_result"
    }
   ],
   "source": [
    "chain = LLMChain(llm=llm, prompt=prompt_template_name, output_key=\"restaurant_name\")\n",
    "chain.run(\"Mexican\")"
   ]
  },
  {
   "cell_type": "code",
   "execution_count": 11,
   "id": "21098937",
   "metadata": {},
   "outputs": [],
   "source": [
    "\n",
    "prompt_template_name = PromptTemplate(\n",
    "    input_variables =['cuisine'],\n",
    "    template = \"I want to open a restaurant for {cuisine} food. Suggest a fency name for this.\"\n",
    ")\n",
    "\n",
    "name_chain =LLMChain(llm=llm, prompt=prompt_template_name)\n",
    "\n",
    "prompt_template_items = PromptTemplate(\n",
    "    input_variables = ['restaurant_name'],\n",
    "    template=\"\"\"Suggest some menu items for {restaurant_name}\"\"\"\n",
    ")\n",
    "\n",
    "food_items_chain = LLMChain(llm=llm, prompt=prompt_template_items)"
   ]
  },
  {
   "cell_type": "markdown",
   "id": "87a98d9f",
   "metadata": {},
   "source": [
    "#### Simple Sequential Chain"
   ]
  },
  {
   "cell_type": "code",
   "execution_count": 15,
   "id": "d9fd9a79",
   "metadata": {
    "scrolled": false
   },
   "outputs": [
    {
     "name": "stdout",
     "output_type": "stream",
     "text": [
      "I've chosen **The Maharaja's Table** as the name for our Indian restaurant. Here are some menu item suggestions that fit the luxurious and regal theme:\n",
      "\n",
      "**Appetizers**\n",
      "\n",
      "1. **Maharaja's Morsels**: Crispy vegetable samosas served with a side of mint chutney and tamarind sauce.\n",
      "2. **Royal Raj Kachori**: A flavorful street food dish from India, featuring crispy bread filled with spiced potatoes, chickpeas, and onions.\n",
      "3. **Tandoori Chicken Tikka**: Marinated chicken cooked in a clay oven and served with a side of cilantro-lime sauce.\n",
      "\n",
      "**Entrees**\n",
      "\n",
      "1. **The Maharaja's Lamb Curry**: A rich and creamy curry made with tender lamb, served with basmati rice and naan bread.\n",
      "2. **Palace Chicken Biryani**: A flavorful and aromatic rice dish made with marinated chicken, basmati rice, and a blend of spices.\n",
      "3. **Vegetable Korma**: A mild and creamy curry made with a mix of vegetables, served with steamed basmati rice and naan bread.\n",
      "\n",
      "**Sides**\n",
      "\n",
      "1. **Maharaja's Mixed Raita**: A cool and creamy side dish made with yogurt, cucumber, cumin, and coriander.\n",
      "2. **Royal Saag Aloo**: A spicy mustard green dish made with potatoes, onions, and garlic.\n",
      "3. **Basmati Rice Pilaf**: A flavorful and aromatic rice dish made with saffron, cardamom, and cloves.\n",
      "\n",
      "**Desserts**\n",
      "\n",
      "1. **Gulab Jamun**: A classic Indian dessert made with deep-fried dumplings soaked in a sweet and fragrant rose syrup.\n",
      "2. **Kulfi Falooda**: A creamy and cold dessert made with Indian-style ice cream, vermicelli noodles, and a sprinkle of cardamom powder.\n",
      "3. **Jalebi**: A crispy and sweet dessert made with fermented batter, deep-fried and soaked in a sweet syrup.\n",
      "\n",
      "**Beverages**\n",
      "\n",
      "1. **Maharaja's Mango Lassi**: A creamy and refreshing yogurt-based drink made with mango puree and a touch of cardamom.\n",
      "2. **Royal Chai**: A spiced tea made with black tea, milk, and a blend of spices, served with a side of sweet biscuits.\n",
      "3. **Saffron Lemonade**: A refreshing and fragrant drink made with saffron-infused lemonade, served with a sprinkle of cardamom powder.\n",
      "\n",
      "These menu items are designed to evoke the rich and regal flavors of Indian cuisine, with a focus on luxurious and high-end ingredients. The dishes are named to reflect the theme of **The Maharaja's Table**, with a focus on royal and majestic flavors.\n"
     ]
    }
   ],
   "source": [
    "from langchain.chains import SimpleSequentialChain\n",
    "chain = SimpleSequentialChain(chains = [name_chain, food_items_chain])\n",
    "\n",
    "content = chain.run(\"Indian\")\n",
    "print(content)"
   ]
  },
  {
   "cell_type": "markdown",
   "id": "0386d05c",
   "metadata": {},
   "source": [
    "#### Sequential Chain"
   ]
  },
  {
   "cell_type": "code",
   "execution_count": 16,
   "id": "49dc0fae",
   "metadata": {},
   "outputs": [],
   "source": [
    "llm = ChatGroq(model=\"llama-3.3-70b-versatile\", temperature=0.6, api_key=groq_api_key)\n",
    "\n",
    "prompt_template_name = PromptTemplate(\n",
    "    input_variables =['cuisine'],\n",
    "    template = \"I want to open a restaurant for {cuisine} food. Suggest a fency name for this.\"\n",
    ")\n",
    "\n",
    "name_chain =LLMChain(llm=llm, prompt=prompt_template_name, output_key=\"restaurant_name\")"
   ]
  },
  {
   "cell_type": "code",
   "execution_count": 17,
   "id": "9dea8402",
   "metadata": {},
   "outputs": [],
   "source": [
    "llm = ChatGroq(model=\"llama-3.3-70b-versatile\", temperature=0.6, api_key=groq_api_key)\n",
    "\n",
    "prompt_template_items = PromptTemplate(\n",
    "    input_variables = ['restaurant_name'],\n",
    "    template=\"Suggest some menu items for {restaurant_name}.\"\n",
    ")\n",
    "\n",
    "food_items_chain =LLMChain(llm=llm, prompt=prompt_template_items, output_key=\"menu_items\")"
   ]
  },
  {
   "cell_type": "code",
   "execution_count": 18,
   "id": "1ec1be10",
   "metadata": {},
   "outputs": [],
   "source": [
    "from langchain.chains import SequentialChain\n",
    "\n",
    "chain = SequentialChain(\n",
    "    chains = [name_chain, food_items_chain],\n",
    "    input_variables = ['cuisine'],\n",
    "    output_variables = ['restaurant_name', \"menu_items\"]\n",
    ")"
   ]
  },
  {
   "cell_type": "code",
   "execution_count": 19,
   "id": "4653c540",
   "metadata": {},
   "outputs": [
    {
     "name": "stderr",
     "output_type": "stream",
     "text": [
      "C:\\Users\\chili\\AppData\\Local\\Temp\\ipykernel_21256\\3052807682.py:1: LangChainDeprecationWarning: The method `Chain.__call__` was deprecated in langchain 0.1.0 and will be removed in 1.0. Use :meth:`~invoke` instead.\n",
      "  chain({\"cuisine\": \"Indian\"})\n"
     ]
    },
    {
     "data": {
      "text/plain": [
       "{'cuisine': 'Indian',\n",
       " 'restaurant_name': 'Here are some fancy name suggestions for your Indian restaurant:\\n\\n1. **Tandoor Nights**: This name evokes the warm, aromatic flavors of Indian cuisine and the traditional tandoor oven.\\n2. **Maharaja\\'s Kitchen**: \"Maharaja\" means \"great king\" in Hindi, implying a regal and luxurious dining experience.\\n3. **Spice Route Bazaar**: This name captures the essence of India\\'s rich spice trade and the vibrant atmosphere of a bustling bazaar.\\n4. **Dhaba Royale**: \"Dhaba\" is a colloquial term for a roadside eatery in India, while \"Royale\" adds a touch of sophistication.\\n5. **Mumbai Masala**: This name combines the vibrant energy of Mumbai with the aromatic flavors of Indian spices.\\n6. **The Garam House**: \"Garam\" means \"hot\" or \"warm\" in Hindi, implying a cozy and inviting atmosphere.\\n7. **Jaipur Junction**: This name references the historic city of Jaipur and suggests a meeting point for flavors and cultures.\\n8. **Bollywood Bites**: This name incorporates the glamour of Indian cinema with the idea of savory, bite-sized dishes.\\n9. **The Spice Chamber**: This name implies a refined and elegant dining experience, with a focus on the complex flavors of Indian cuisine.\\n10. **Taj Mahal Tastes**: This name references the iconic Indian landmark and promises a culinary experience fit for royalty.\\n\\nChoose the one that resonates with your vision and target audience, or feel free to modify these suggestions to create a unique name for your restaurant!',\n",
       " 'menu_items': \"I'll choose **Tandoor Nights** as the name for our Indian restaurant. Here are some menu item suggestions to complement this theme:\\n\\n**Appetizers**\\n\\n1. **Tandoor Nights Sampler**: A selection of assorted kebabs, including chicken, lamb, and vegetable, served with a side of cilantro-lime chutney.\\n2. **Papadum Platter**: Thin, crispy papadum served with a trio of dips: mint-cilantro, tamarind, and spiced yogurt.\\n3. **Samosas**: Crispy fried or baked pastries filled with spiced potatoes, peas, and onions, served with a side of tamarind chutney.\\n\\n**Tandoor Specialties**\\n\\n1. **Chicken Tikka Masala**: Marinated chicken cooked in the tandoor and served in a rich, creamy tomato sauce.\\n2. **Lamb Seekh Kebab**: Minced lamb mixed with spices and herbs, grilled to perfection in the tandoor.\\n3. **Vegetable Tandoori Platter**: A selection of marinated vegetables, including bell peppers, cauliflower, and onions, grilled in the tandoor.\\n\\n**Curries and Biryanis**\\n\\n1. **Butter Chicken**: A rich, creamy tomato sauce with marinated chicken, served with basmati rice and naan bread.\\n2. **Palak Paneer**: Creamy spinach curry with paneer (Indian cheese), served with basmati rice and naan bread.\\n3. **Hyderabadi Dum Biryani**: Aromatic basmati rice cooked with marinated lamb, spices, and herbs, served with a side of raita (yogurt and cucumber sauce).\\n\\n**Sides and Breads**\\n\\n1. **Garlic Naan**: Leavened flatbread flavored with garlic and cilantro.\\n2. **Saag Aloo**: Spiced mustard greens with potatoes and garlic, served with basmati rice.\\n3. **Cucumber Raita**: Yogurt and cucumber sauce with cumin and coriander, served as a side to cool down the palate.\\n\\n**Desserts**\\n\\n1. **Gulab Jamun**: Deep-fried dumplings soaked in a sweet, rosewater syrup, served with a sprinkle of cardamom powder.\\n2. **Kulfi Falooda**: Indian-style ice cream with vermicelli noodles, rose syrup, and chopped nuts.\\n3. **Jalebi**: Crispy, fermented batter fried and soaked in a sweet syrup, served with a side of rabri (thickened milk).\\n\\n**Beverages**\\n\\n1. **Mango Lassi**: Yogurt-based drink with pureed mango and a touch of cardamom.\\n2. **Chai**: Spiced tea with black tea, milk, and a blend of spices, including cinnamon, cardamom, and ginger.\\n3. **Jal Jeera**: Cumin-flavored drink with tamarind, mint, and a touch of lime juice.\\n\\nThese menu items will provide a delicious and authentic Indian dining experience, with a focus on the warm, aromatic flavors of the tandoor oven.\"}"
      ]
     },
     "execution_count": 19,
     "metadata": {},
     "output_type": "execute_result"
    }
   ],
   "source": [
    "chain({\"cuisine\": \"Indian\"})"
   ]
  },
  {
   "cell_type": "markdown",
   "id": "4069a75e",
   "metadata": {},
   "source": [
    "## Agents"
   ]
  },
  {
   "cell_type": "code",
   "execution_count": 23,
   "id": "5e6ee719",
   "metadata": {},
   "outputs": [],
   "source": [
    "# make sure yoy have installed this package: pip install google-search-results\n",
    "from secret_key import serpapi_key\n",
    "from secret_key import groq_api_key\n",
    "os.environ['SERPAPI_API_KEY'] = serpapi_key\n",
    "\n"
   ]
  },
  {
   "cell_type": "markdown",
   "id": "471b2c6b",
   "metadata": {},
   "source": [
    "#### serpapi and llm-math tool"
   ]
  },
  {
   "cell_type": "code",
   "execution_count": 32,
   "id": "fec4212d",
   "metadata": {
    "scrolled": false
   },
   "outputs": [
    {
     "name": "stderr",
     "output_type": "stream",
     "text": [
      "C:\\Users\\chili\\AppData\\Local\\Temp\\ipykernel_21256\\146143048.py:9: LangChainDeprecationWarning: LangChain agents will continue to be supported, but it is recommended for new use cases to be built with LangGraph. LangGraph offers a more flexible and full-featured framework for building agents, including support for tool-calling, persistence of state, and human-in-the-loop workflows. For details, refer to the `LangGraph documentation <https://langchain-ai.github.io/langgraph/>`_ as well as guides for `Migrating from AgentExecutor <https://python.langchain.com/docs/how_to/migrate_agent/>`_ and LangGraph's `Pre-built ReAct agent <https://langchain-ai.github.io/langgraph/how-tos/create-react-agent/>`_.\n",
      "  agent = initialize_agent(\n"
     ]
    },
    {
     "name": "stdout",
     "output_type": "stream",
     "text": [
      "\n",
      "\n",
      "\u001b[1m> Entering new AgentExecutor chain...\u001b[0m\n",
      "\u001b[32;1m\u001b[1;3mTo answer this question, I need to find the capital of India and then calculate 17% of its population. \n",
      "\n",
      "Action: Search\n",
      "Action Input: capital of India\u001b[0m\n",
      "Observation: \u001b[36;1m\u001b[1;3m['New Delhi is the capital of India and a part of the National Capital Territory of Delhi. New Delhi is the seat of all three branches of the Government of India, hosting the Rashtrapati Bhavan, Sansad Bhavan, and the Supreme Court.', 'New Delhi type: Capital of India.', 'New Delhi entity_type: cities, locations, travel.', 'New Delhi kgmid: /m/0dlv0.', \"New Delhi neighborhoods: Lutyens' Delhi, South Extension, Dhaula Kuan.\", 'New Delhi area_code: +91-11.', 'New Delhi established: 12 December 1911.', 'New Delhi international_airport: Indira Gandhi International Airport.', 'New Delhi union_territory: Delhi.', 'New Delhi is the capital of India and a part of the National Capital Territory of Delhi (NCT). New Delhi is the seat of all three branches of the Government ...', 'New Delhi, national capital of India. It is situated in the north-central part of the country on the west bank of the Yamuna River.', 'This is a list of locations which have served as capital cities in India. The current capital city is New Delhi, which replaced Calcutta in 1911.', 'Jammu & Kashmir is the only region in India with two capitals: Srinagar (summer) and Jammu (winter). The capital shifts with the seasons!', 'What is the capital of India? A. Delhi. B. Mumbai. C. Calcutta. D. Agra. लिखित उत्तर. Verified by Experts. The correct Answer is:A. Delhi is the capital of ...', 'noun the capital of India is a division of the old city of Delhi synonyms: Indian capital, New Delhi', \"What's The Capital Of India? Pt.346. 149. Dislike. 8. Share. Video unavailable. This content isn't available. Skip video.\"]\u001b[0m\n",
      "Thought:\u001b[32;1m\u001b[1;3mThe search results confirm that the capital of India is New Delhi. \n",
      "\n",
      "Action: Search\n",
      "Action Input: population of New Delhi\u001b[0m\n",
      "Observation: \u001b[36;1m\u001b[1;3m['New Delhi ; 249,998 · 11 · 5,900/km2 (15,000/sq mi) · 28,514,000.', \"According to the 2011 census, the population of Delhi city proper was over 11 million, while the NCT's population was about 16.8 million. Delhi. Megacity and ...\", \"Delhi's 2025 population is now estimated at 34,665,600. In 1950, the population of Delhi was 1,369,370. Delhi has grown by 858,200 in the last year, ...\", 'City, Population. 1, Mumbai, 12,691,836. 2, Delhi, 10,927,986. 3, Bengaluru, 8,443,675. 4, Hyderabad, 6,809,970. 5, Ahmedabad, 6,357,693.', 'The metro area population of Delhi in 2023 was 32,941,000, a 2.73% increase from 2022. The metro area population of Delhi in 2022 was 32,066,000, a 2.84% ...', \"New Delhi District is having population 1173902 person (8% of entire Delhi's population) and Population density of 10,000 per square kilometer as per census- ...\", 'In one lifetime, Delhi has gone from 900 thousand people to 33 million, the equivalent of a city like Bakersfield becoming a city like Tokyo by ...', \"New Delhi's 2025 population is now estimated at 206,230. In 1991, the population of New Delhi was 301,297. New Delhi experienced a decrease of -51,573 residents ...\", 'New Delhi, national capital of India. It is situated in the north-central part of the country on the west bank of the Yamuna River.']\u001b[0m\n",
      "Thought:\u001b[32;1m\u001b[1;3mThe search results provide different estimates of the population of New Delhi. To calculate 17% of the population, I need to choose one of these estimates. I will use the most recent estimate I can find, which is approximately 32,941,000 for the metro area population of Delhi in 2023.\n",
      "\n",
      "Action: Calculator\n",
      "Action Input: 17% of 32,941,000\u001b[0m\n",
      "Observation: \u001b[33;1m\u001b[1;3mAnswer: 5599970.0\u001b[0m\n",
      "Thought:\u001b[32;1m\u001b[1;3mI now know the final answer\n",
      "Final Answer: The capital of India is New Delhi, and 17% of its population is approximately 5,599,970.\u001b[0m\n",
      "\n",
      "\u001b[1m> Finished chain.\u001b[0m\n"
     ]
    },
    {
     "data": {
      "text/plain": [
       "'The capital of India is New Delhi, and 17% of its population is approximately 5,599,970.'"
      ]
     },
     "execution_count": 32,
     "metadata": {},
     "output_type": "execute_result"
    }
   ],
   "source": [
    "from langchain_groq import ChatGroq\n",
    "from langchain.agents import AgentType, initialize_agent, load_tools\n",
    "# from langchain_community.tools import load_tools\n",
    "\n",
    "llm = ChatGroq(model=\"llama-3.3-70b-versatile\", temperature=0.6, api_key=groq_api_key)\n",
    "\n",
    "tools = load_tools([\"serpapi\", \"llm-math\"], llm=llm)\n",
    "\n",
    "agent = initialize_agent(\n",
    "    tools,\n",
    "    llm,\n",
    "    agent=AgentType.ZERO_SHOT_REACT_DESCRIPTION,\n",
    "    verbose=True\n",
    ")\n",
    "agent.run(\"What is the capital of India? What is 17% of the population of that city?\")"
   ]
  },
  {
   "cell_type": "markdown",
   "id": "09cd3a12",
   "metadata": {},
   "source": [
    "#### Wikipedia and llm-math tool"
   ]
  },
  {
   "cell_type": "code",
   "execution_count": null,
   "id": "14d06ce6",
   "metadata": {
    "scrolled": false
   },
   "outputs": [],
   "source": [
    "# # install this package: pip install wikipedia\n",
    "\n",
    "# # The tools we'll give the Agent access to. Note that the 'llm-math' tool uses an LLM, so we need to pass that in.\n",
    "# tools = load_tools([\"wikipedia\", \"llm-math\"], llm=llm)\n",
    "\n",
    "# # Finally, let's initialize an agent with the tools, the language model, and the type of agent we want to use.\n",
    "# agent = initialize_agent(\n",
    "#     tools, \n",
    "#     llm, \n",
    "#     agent=AgentType.ZERO_SHOT_REACT_DESCRIPTION, \n",
    "#     verbose=True\n",
    "# )\n",
    "\n",
    "# # Let's test it out!\n",
    "# agent.run(\"When was Elon musk born? What is his age right now in 2023?\")"
   ]
  },
  {
   "cell_type": "markdown",
   "id": "b6be7ee7",
   "metadata": {},
   "source": [
    "## Memory"
   ]
  },
  {
   "cell_type": "code",
   "execution_count": 36,
   "id": "2acab5d0",
   "metadata": {},
   "outputs": [
    {
     "name": "stdout",
     "output_type": "stream",
     "text": [
      "Here are some fancy name suggestions for your Mexican restaurant:\n",
      "\n",
      "1. **Fiesta Royale**: This name evokes the idea of a luxurious and vibrant celebration, perfect for a high-end Mexican dining experience.\n",
      "2. **El Jardín de las Flores**: This name, which translates to \"The Garden of Flowers,\" suggests a beautiful and elegant atmosphere, reminiscent of a Mexican garden.\n",
      "3. **Casa de Sol**: This name, meaning \"House of Sun,\" conveys a sense of warmth and hospitality, perfect for a restaurant that serves up delicious Mexican cuisine.\n",
      "4. **La Hacienda**: This name, meaning \"The Estate,\" implies a sense of grandeur and sophistication, fitting for a fancy Mexican restaurant.\n",
      "5. **Tres Amigos Gourmet**: This name, which means \"Three Friends Gourmet,\" suggests a high-end dining experience with a personal touch, perfect for a restaurant that wants to stand out from the crowd.\n",
      "6. **Villa Mexicana**: This name, which means \"Mexican Villa,\" transports customers to a luxurious and exotic destination, perfect for a fancy Mexican restaurant.\n",
      "7. **El Patio de Oro**: This name, which translates to \"The Golden Patio,\" suggests a warm and inviting atmosphere, perfect for a restaurant that serves up delicious Mexican cuisine.\n",
      "8. **Cantina del Sol**: This name, which means \"Tavern of the Sun,\" implies a sense of warmth and hospitality, perfect for a restaurant that wants to make customers feel at home.\n",
      "\n",
      "Choose the one that resonates with your vision and brand identity, and get ready to serve up delicious Mexican cuisine to your customers!\n"
     ]
    }
   ],
   "source": [
    "chain = LLMChain(llm=llm,prompt=prompt_template_name)\n",
    "name = chain.run(\"Mexican\")\n",
    "print(name)"
   ]
  },
  {
   "cell_type": "code",
   "execution_count": 37,
   "id": "5bc200f9",
   "metadata": {},
   "outputs": [
    {
     "name": "stdout",
     "output_type": "stream",
     "text": [
      "Here are some fancy name suggestions for your Indian restaurant:\n",
      "\n",
      "1. **Tandoori Nights**: This name evokes the warm, aromatic flavors of traditional Indian cuisine, and the word \"nights\" adds a touch of sophistication.\n",
      "2. **Spice Route Bazaar**: This name transports customers to the vibrant markets of India, where exotic spices and flavors await.\n",
      "3. **Mumbai Mansion**: This name combines the elegance of a mansion with the excitement of India's bustling city, Mumbai.\n",
      "4. **Saffron & Spice**: Saffron is a prized ingredient in Indian cuisine, and pairing it with \"spice\" creates a name that's both luxurious and appetizing.\n",
      "5. **Taj Mahal Palace**: This name references the iconic Indian landmark, conveying a sense of grandeur and opulence.\n",
      "6. **Bombay Bistro**: This name blends the modern, trendy vibe of a bistro with the classic charm of Bombay (now Mumbai).\n",
      "7. **Garam Masala House**: \"Garam masala\" is a fundamental spice blend in Indian cuisine, and \"house\" implies a warm, welcoming atmosphere.\n",
      "8. **Dhaba Royale**: A \"dhaba\" is a traditional Indian eatery, and adding \"royale\" elevates the name to a more upscale, regal experience.\n",
      "9. **Karma Kitchen**: This name combines the concept of karma (a fundamental principle in Indian philosophy) with the idea of a kitchen, creating a unique and intriguing name.\n",
      "10. **Jaipur Jewel**: Jaipur is a city in India known for its rich cultural heritage, and \"jewel\" implies a treasure trove of flavors and experiences.\n",
      "\n",
      "Choose the one that resonates with your vision and atmosphere, and don't hesitate to modify or combine these suggestions to create the perfect name for your Indian restaurant!\n"
     ]
    }
   ],
   "source": [
    "name = chain.run(\"Indian\")\n",
    "print(name)"
   ]
  },
  {
   "cell_type": "code",
   "execution_count": 38,
   "id": "229a6888",
   "metadata": {},
   "outputs": [],
   "source": [
    "chain.memory"
   ]
  },
  {
   "cell_type": "code",
   "execution_count": 39,
   "id": "f492fb5a",
   "metadata": {
    "scrolled": true
   },
   "outputs": [
    {
     "data": {
      "text/plain": [
       "NoneType"
      ]
     },
     "execution_count": 39,
     "metadata": {},
     "output_type": "execute_result"
    }
   ],
   "source": [
    "type(chain.memory)"
   ]
  },
  {
   "cell_type": "markdown",
   "id": "871492be",
   "metadata": {},
   "source": [
    "#### ConversationBufferMemory"
   ]
  },
  {
   "cell_type": "code",
   "execution_count": 40,
   "id": "53eea298",
   "metadata": {},
   "outputs": [
    {
     "name": "stderr",
     "output_type": "stream",
     "text": [
      "C:\\Users\\chili\\AppData\\Local\\Temp\\ipykernel_21256\\3140656249.py:3: LangChainDeprecationWarning: Please see the migration guide at: https://python.langchain.com/docs/versions/migrating_memory/\n",
      "  memory = ConversationBufferMemory()\n"
     ]
    },
    {
     "name": "stdout",
     "output_type": "stream",
     "text": [
      "Here are some fancy name suggestions for your Mexican restaurant:\n",
      "\n",
      "1. **Fiesta Royale**: This name evokes the vibrant and lively spirit of Mexican culture, with a touch of luxury and sophistication.\n",
      "2. **El Patio Elegante**: This name combines the Spanish phrase \"El Patio\" (meaning \"the patio\") with the word \"Elegante,\" conveying a sense of refined and upscale dining.\n",
      "3. **Casa de las Flores**: This name, which translates to \"House of Flowers,\" suggests a beautiful and elegant atmosphere, perfect for a fancy Mexican restaurant.\n",
      "4. **Tacos y Tapas**: This name combines the popular Mexican dish \"tacos\" with the Spanish concept of \"tapas,\" implying a sophisticated and modern take on traditional Mexican cuisine.\n",
      "5. **La Hacienda**: This name, which means \"the estate\" or \"the ranch,\" suggests a grand and luxurious setting, perfect for a high-end Mexican restaurant.\n",
      "6. **Sol y Sabor**: This name, which translates to \"Sun and Flavor,\" combines the warmth and vibrancy of Mexican culture with a focus on delicious and authentic cuisine.\n",
      "7. **Cantina del Sol**: This name, which means \"Tavern of the Sun,\" suggests a lively and energetic atmosphere, perfect for a fancy Mexican restaurant with a fun and vibrant vibe.\n",
      "8. **Mexiko**: This name, which is a play on the word \"Mexico,\" has a sleek and modern sound, implying a trendy and upscale dining experience.\n",
      "9. **La Casa Azul**: This name, which translates to \"The Blue House,\" suggests a beautiful and elegant atmosphere, perfect for a fancy Mexican restaurant with a unique and sophisticated charm.\n",
      "10. **Viva la Vida**: This name, which translates to \"Long Live Life,\" is a playful and vibrant phrase that captures the spirit of Mexican culture and suggests a lively and exciting dining experience.\n",
      "\n",
      "I hope one of these suggestions sparks your interest and helps you find the perfect name for your Mexican restaurant!\n"
     ]
    }
   ],
   "source": [
    "from langchain.memory import ConversationBufferMemory\n",
    "\n",
    "memory = ConversationBufferMemory()\n",
    "\n",
    "chain = LLMChain(llm=llm, prompt=prompt_template_name, memory=memory)\n",
    "name = chain.run(\"Mexican\")\n",
    "print(name)"
   ]
  },
  {
   "cell_type": "code",
   "execution_count": 41,
   "id": "0de5d50b",
   "metadata": {},
   "outputs": [
    {
     "name": "stdout",
     "output_type": "stream",
     "text": [
      "Here are some fancy name suggestions for your Arabic restaurant:\n",
      "\n",
      "1. **Sahara Nights**: This name evokes the mystery and romance of the Arabian desert, perfect for a fine dining experience.\n",
      "2. **Aladdin's Table**: Inspired by the famous Arabian tale, this name promises a magical and exotic culinary journey.\n",
      "3. **Mashreq Maison**: \"Mashreq\" means \"east\" in Arabic, and \"Maison\" is French for \"house,\" suggesting a sophisticated and elegant dining experience.\n",
      "4. **Zahra's**: \"Zahra\" means \"blooming flower\" in Arabic, conveying a sense of beauty and hospitality.\n",
      "5. **Dar Al Sultan**: \"Dar Al Sultan\" means \"House of the Sultan,\" implying a regal and luxurious dining experience.\n",
      "6. **Arabesque**: This name references the intricate and ornate patterns found in Arabic architecture and art, suggesting a refined and cultured atmosphere.\n",
      "7. **Qasr Al Aziz**: \"Qasr\" means \"palace\" in Arabic, and \"Al Aziz\" means \"the beloved,\" promising a warm and welcoming dining experience.\n",
      "8. **Habibi's**: \"Habibi\" means \"my love\" in Arabic, adding a touch of warmth and affection to your restaurant's name.\n",
      "9. **Al Faisal's**: \"Al Faisal\" is a common Arabic name, and using it as a surname suggests a personal and authentic dining experience.\n",
      "10. **Bait Al Arab**: \"Bait Al Arab\" means \"House of the Arabs,\" proudly showcasing your restaurant's cultural heritage.\n",
      "\n",
      "Choose the one that resonates with your vision and atmosphere, and don't forget to check for availability of the desired domain name and social media handles!\n"
     ]
    }
   ],
   "source": [
    "name = chain.run(\"Arabic\")\n",
    "print(name)"
   ]
  },
  {
   "cell_type": "code",
   "execution_count": 42,
   "id": "5cc88888",
   "metadata": {
    "scrolled": true
   },
   "outputs": [
    {
     "name": "stdout",
     "output_type": "stream",
     "text": [
      "Human: Mexican\n",
      "AI: Here are some fancy name suggestions for your Mexican restaurant:\n",
      "\n",
      "1. **Fiesta Royale**: This name evokes the vibrant and lively spirit of Mexican culture, with a touch of luxury and sophistication.\n",
      "2. **El Patio Elegante**: This name combines the Spanish phrase \"El Patio\" (meaning \"the patio\") with the word \"Elegante,\" conveying a sense of refined and upscale dining.\n",
      "3. **Casa de las Flores**: This name, which translates to \"House of Flowers,\" suggests a beautiful and elegant atmosphere, perfect for a fancy Mexican restaurant.\n",
      "4. **Tacos y Tapas**: This name combines the popular Mexican dish \"tacos\" with the Spanish concept of \"tapas,\" implying a sophisticated and modern take on traditional Mexican cuisine.\n",
      "5. **La Hacienda**: This name, which means \"the estate\" or \"the ranch,\" suggests a grand and luxurious setting, perfect for a high-end Mexican restaurant.\n",
      "6. **Sol y Sabor**: This name, which translates to \"Sun and Flavor,\" combines the warmth and vibrancy of Mexican culture with a focus on delicious and authentic cuisine.\n",
      "7. **Cantina del Sol**: This name, which means \"Tavern of the Sun,\" suggests a lively and energetic atmosphere, perfect for a fancy Mexican restaurant with a fun and vibrant vibe.\n",
      "8. **Mexiko**: This name, which is a play on the word \"Mexico,\" has a sleek and modern sound, implying a trendy and upscale dining experience.\n",
      "9. **La Casa Azul**: This name, which translates to \"The Blue House,\" suggests a beautiful and elegant atmosphere, perfect for a fancy Mexican restaurant with a unique and sophisticated charm.\n",
      "10. **Viva la Vida**: This name, which translates to \"Long Live Life,\" is a playful and vibrant phrase that captures the spirit of Mexican culture and suggests a lively and exciting dining experience.\n",
      "\n",
      "I hope one of these suggestions sparks your interest and helps you find the perfect name for your Mexican restaurant!\n",
      "Human: Arabic\n",
      "AI: Here are some fancy name suggestions for your Arabic restaurant:\n",
      "\n",
      "1. **Sahara Nights**: This name evokes the mystery and romance of the Arabian desert, perfect for a fine dining experience.\n",
      "2. **Aladdin's Table**: Inspired by the famous Arabian tale, this name promises a magical and exotic culinary journey.\n",
      "3. **Mashreq Maison**: \"Mashreq\" means \"east\" in Arabic, and \"Maison\" is French for \"house,\" suggesting a sophisticated and elegant dining experience.\n",
      "4. **Zahra's**: \"Zahra\" means \"blooming flower\" in Arabic, conveying a sense of beauty and hospitality.\n",
      "5. **Dar Al Sultan**: \"Dar Al Sultan\" means \"House of the Sultan,\" implying a regal and luxurious dining experience.\n",
      "6. **Arabesque**: This name references the intricate and ornate patterns found in Arabic architecture and art, suggesting a refined and cultured atmosphere.\n",
      "7. **Qasr Al Aziz**: \"Qasr\" means \"palace\" in Arabic, and \"Al Aziz\" means \"the beloved,\" promising a warm and welcoming dining experience.\n",
      "8. **Habibi's**: \"Habibi\" means \"my love\" in Arabic, adding a touch of warmth and affection to your restaurant's name.\n",
      "9. **Al Faisal's**: \"Al Faisal\" is a common Arabic name, and using it as a surname suggests a personal and authentic dining experience.\n",
      "10. **Bait Al Arab**: \"Bait Al Arab\" means \"House of the Arabs,\" proudly showcasing your restaurant's cultural heritage.\n",
      "\n",
      "Choose the one that resonates with your vision and atmosphere, and don't forget to check for availability of the desired domain name and social media handles!\n"
     ]
    }
   ],
   "source": [
    "print(chain.memory.buffer)"
   ]
  },
  {
   "cell_type": "markdown",
   "id": "a0a88b5b",
   "metadata": {},
   "source": [
    "#### ConversationChain"
   ]
  },
  {
   "cell_type": "code",
   "execution_count": 44,
   "id": "687ddd2f",
   "metadata": {},
   "outputs": [
    {
     "name": "stdout",
     "output_type": "stream",
     "text": [
      "The following is a friendly conversation between a human and an AI. The AI is talkative and provides lots of specific details from its context. If the AI does not know the answer to a question, it truthfully says it does not know.\n",
      "\n",
      "Current conversation:\n",
      "{history}\n",
      "Human: {input}\n",
      "AI:\n"
     ]
    },
    {
     "name": "stderr",
     "output_type": "stream",
     "text": [
      "C:\\Users\\chili\\AppData\\Local\\Temp\\ipykernel_21256\\2511972608.py:3: LangChainDeprecationWarning: The class `ConversationChain` was deprecated in LangChain 0.2.7 and will be removed in 1.0. Use :class:`~langchain_core.runnables.history.RunnableWithMessageHistory` instead.\n",
      "  convo = ConversationChain(llm=llm)\n"
     ]
    }
   ],
   "source": [
    "from langchain.chains import ConversationChain\n",
    "\n",
    "convo = ConversationChain(llm=llm)\n",
    "print(convo.prompt.template)"
   ]
  },
  {
   "cell_type": "code",
   "execution_count": 45,
   "id": "47ad5062",
   "metadata": {},
   "outputs": [
    {
     "data": {
      "text/plain": [
       "\"The first Cricket World Cup was held in 1975 in England, and it was won by the West Indies team, led by Clive Lloyd. They defeated Australia in the final at Lord's Cricket Ground on June 21, 1975, with a score of 291/8 in 60 overs, while Australia managed 274 in 58.4 overs. The West Indies' victory margin was 17 runs. Vivian Richards, a legendary West Indian batsman, scored 138 not out in the final, which is still considered one of the greatest innings in World Cup history. Would you like to know more about the 1975 Cricket World Cup or the West Indies team's performance?\""
      ]
     },
     "execution_count": 45,
     "metadata": {},
     "output_type": "execute_result"
    }
   ],
   "source": [
    "convo.run(\"Who won the first cricket world cup?\")"
   ]
  },
  {
   "cell_type": "code",
   "execution_count": 46,
   "id": "03c80b54",
   "metadata": {},
   "outputs": [
    {
     "data": {
      "text/plain": [
       "\"The answer to 5+5 is 10. That's a simple arithmetic operation. By the way, did you know that the 1975 Cricket World Cup had a unique scoring system, where each team faced 60 overs, and the team with the highest score at the end of the 60 overs won the match? The scoring system has evolved over the years, but basic arithmetic operations like 5+5 remain the same. Would you like to know more about the evolution of scoring systems in cricket or is there something else I can help you with?\""
      ]
     },
     "execution_count": 46,
     "metadata": {},
     "output_type": "execute_result"
    }
   ],
   "source": [
    "convo.run(\"How much is 5+5?\")"
   ]
  },
  {
   "cell_type": "code",
   "execution_count": 47,
   "id": "07342f88",
   "metadata": {},
   "outputs": [
    {
     "data": {
      "text/plain": [
       "\"The captain of the winning team in the 1975 Cricket World Cup was Clive Lloyd, a West Indian cricketer who is widely regarded as one of the greatest captains in the history of the sport. Under his leadership, the West Indies team dominated international cricket in the 1970s and 1980s, winning two World Cup titles, in 1975 and 1979. Clive Lloyd is also known for his impressive batting skills, scoring 7,515 runs in 110 Test matches at an average of 46.67. He was knighted in 2022 for his services to cricket. Would you like to know more about Clive Lloyd's career or the West Indies team's dominance during his captaincy?\""
      ]
     },
     "execution_count": 47,
     "metadata": {},
     "output_type": "execute_result"
    }
   ],
   "source": [
    "convo.run(\"Who was the captain ofthe winning team?\")"
   ]
  },
  {
   "cell_type": "code",
   "execution_count": 48,
   "id": "4e459d07",
   "metadata": {},
   "outputs": [
    {
     "name": "stdout",
     "output_type": "stream",
     "text": [
      "Human: Who won the first cricket world cup?\n",
      "AI: The first Cricket World Cup was held in 1975 in England, and it was won by the West Indies team, led by Clive Lloyd. They defeated Australia in the final at Lord's Cricket Ground on June 21, 1975, with a score of 291/8 in 60 overs, while Australia managed 274 in 58.4 overs. The West Indies' victory margin was 17 runs. Vivian Richards, a legendary West Indian batsman, scored 138 not out in the final, which is still considered one of the greatest innings in World Cup history. Would you like to know more about the 1975 Cricket World Cup or the West Indies team's performance?\n",
      "Human: How much is 5+5?\n",
      "AI: The answer to 5+5 is 10. That's a simple arithmetic operation. By the way, did you know that the 1975 Cricket World Cup had a unique scoring system, where each team faced 60 overs, and the team with the highest score at the end of the 60 overs won the match? The scoring system has evolved over the years, but basic arithmetic operations like 5+5 remain the same. Would you like to know more about the evolution of scoring systems in cricket or is there something else I can help you with?\n",
      "Human: Who was the captain ofthe winning team?\n",
      "AI: The captain of the winning team in the 1975 Cricket World Cup was Clive Lloyd, a West Indian cricketer who is widely regarded as one of the greatest captains in the history of the sport. Under his leadership, the West Indies team dominated international cricket in the 1970s and 1980s, winning two World Cup titles, in 1975 and 1979. Clive Lloyd is also known for his impressive batting skills, scoring 7,515 runs in 110 Test matches at an average of 46.67. He was knighted in 2022 for his services to cricket. Would you like to know more about Clive Lloyd's career or the West Indies team's dominance during his captaincy?\n"
     ]
    }
   ],
   "source": [
    "print(convo.memory.buffer)"
   ]
  },
  {
   "cell_type": "markdown",
   "id": "feaa3abd",
   "metadata": {},
   "source": [
    "#### ConversationBufferWindowMemory"
   ]
  },
  {
   "cell_type": "code",
   "execution_count": 50,
   "id": "460eb33c",
   "metadata": {},
   "outputs": [
    {
     "data": {
      "text/plain": [
       "\"The first Cricket World Cup was held in 1975, and it was won by the West Indies. The tournament was hosted by England, and the West Indies defeated Australia in the final at Lord's Cricket Ground in London on June 21, 1975. The West Indies won by 17 runs, with a score of 291/8, while Australia was bowled out for 274. The team was led by Clive Lloyd, and their victory marked the beginning of a dominant era in international cricket for the West Indies. Would you like to know more about the 1975 Cricket World Cup or the West Indies team during that time?\""
      ]
     },
     "execution_count": 50,
     "metadata": {},
     "output_type": "execute_result"
    }
   ],
   "source": [
    "from langchain.memory import ConversationBufferWindowMemory\n",
    "\n",
    "memory = ConversationBufferWindowMemory(k=1)\n",
    "\n",
    "convo = ConversationChain(\n",
    "    llm=llm,\n",
    "    memory=memory\n",
    ")\n",
    "convo.run(\"Who won the first cricket world cup?\")"
   ]
  },
  {
   "cell_type": "code",
   "execution_count": 51,
   "id": "d395beaf",
   "metadata": {},
   "outputs": [
    {
     "data": {
      "text/plain": [
       "'The answer to 5+5 is 10. This is a basic arithmetic operation that involves adding two numbers together. In this case, when you add 5 and 5, the result is 10. This is a fundamental concept in mathematics that is widely used in various aspects of life, from simple calculations to complex mathematical problems. Would you like to know more about basic arithmetic operations or is there something else I can help you with?'"
      ]
     },
     "execution_count": 51,
     "metadata": {},
     "output_type": "execute_result"
    }
   ],
   "source": [
    "convo.run(\"How much is 5+5?\")"
   ]
  },
  {
   "cell_type": "code",
   "execution_count": 52,
   "id": "93b24745",
   "metadata": {},
   "outputs": [
    {
     "data": {
      "text/plain": [
       "\"I don't know which specific team or competition you are referring to. Could you please provide more context or information about the team or event you are asking about? That way, I can try to provide a more accurate answer. For example, are you talking about a sports team, such as a football or basketball team, or perhaps a team that competed in a different type of event? Any additional details you can provide would be helpful in trying to find the answer to your question.\""
      ]
     },
     "execution_count": 52,
     "metadata": {},
     "output_type": "execute_result"
    }
   ],
   "source": [
    "convo.run(\"Who was the captain of the winning team?\")"
   ]
  }
 ],
 "metadata": {
  "kernelspec": {
   "display_name": "Python 3",
   "language": "python",
   "name": "python3"
  },
  "language_info": {
   "codemirror_mode": {
    "name": "ipython",
    "version": 3
   },
   "file_extension": ".py",
   "mimetype": "text/x-python",
   "name": "python",
   "nbconvert_exporter": "python",
   "pygments_lexer": "ipython3",
   "version": "3.9.0"
  }
 },
 "nbformat": 4,
 "nbformat_minor": 5
}
